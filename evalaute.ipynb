{
 "cells": [
  {
   "cell_type": "code",
   "execution_count": null,
   "metadata": {},
   "outputs": [
    {
     "name": "stderr",
     "output_type": "stream",
     "text": [
      "WARNING: Using incubator modules: jdk.incubator.vector\n"
     ]
    },
    {
     "data": {
      "application/vnd.jupyter.widget-view+json": {
       "model_id": "e91f2aec471f4f8db3325b035e547865",
       "version_major": 2,
       "version_minor": 0
      },
      "text/plain": [
       "  0%|          | 0/5183 [00:00<?, ?it/s]"
      ]
     },
     "metadata": {},
     "output_type": "display_data"
    }
   ],
   "source": [
    "from pyserini.search.lucene import LuceneSearcher\n",
    "import torch\n",
    "from transformers import AutoTokenizer, AutoModelForCausalLM\n",
    "from tqdm import tqdm\n",
    "from utils import get_data, creat_index,generate_reformulations,eval_reformulations,make_conversation\n",
    "\n",
    "data_set=\"scifact\"\n",
    "data_path= \"data/text_data/\"\n",
    "corpus, queries, qrels  =get_data(data_set,data_path=data_path)\n",
    "queries_ids=list(queries.keys())\n",
    "document_ids= list(corpus.keys())\n",
    "\n",
    "\n"
   ]
  },
  {
   "cell_type": "code",
   "execution_count": null,
   "metadata": {},
   "outputs": [
    {
     "name": "stderr",
     "output_type": "stream",
     "text": [
      "mai 13, 2025 1:12:18 PM org.apache.lucene.store.MMapDirectory lookupProvider\n",
      "WARNING: You are running with Java 22 or later. To make full use of MMapDirectory, please update Apache Lucene.\n"
     ]
    }
   ],
   "source": [
    "index_path=\"data/index_data/\"+data_set+\"_docIndex\"\n",
    "index_path=index_path+'/doc_index'     \n",
    "creat_index(index_path,corpus)\n",
    "searcher = LuceneSearcher(index_path)\n",
    "searcher.set_bm25(k1=0.9, b=0.4)"
   ]
  },
  {
   "cell_type": "code",
   "execution_count": 7,
   "metadata": {},
   "outputs": [],
   "source": [
    "\n",
    "SYSTEM_PROMPT = (\n",
    "    \"A conversation between a User and an Assistant. The User provides a query to be reformulated and rich, \"\n",
    "    \"and the Assistant must rewrite the query without asking a question so that a keywords retrieval system can better find the correct document. \"\n",
    "    \"No additional text is needed — only the new, reformulated query should be returned.\\n\"\n",
    "    \"Format: USER: [ORIGINAL QUERY]  ASSISTANT: [NEW QUERY]\"\n",
    ")\n",
    "SYSTEM_PROMPT2=(\"Reformulate the query so keywords retrieval system can better find the correct document.\\n\\n\\n [ORIGINAL QUERY]: \")"
   ]
  },
  {
   "cell_type": "code",
   "execution_count": 5,
   "metadata": {},
   "outputs": [],
   "source": [
    "device=\"mps\"\n",
    "\n",
    "#Only GRPO\n",
    "model_name=\"checkpoints/Qwen_GRPO_clean12/checkpoint-925\"\n",
    "trained_model = AutoModelForCausalLM.from_pretrained(\n",
    "   model_name,\n",
    "    torch_dtype=\"auto\",\n",
    "    device_map=device,\n",
    ")\n",
    "trained_tokenizer = AutoTokenizer.from_pretrained(model_name)\n",
    "\n",
    "#Base model\n",
    "model_name = \"Qwen/Qwen2.5-1.5B-Instruct\"\n",
    "tokenizer = AutoTokenizer.from_pretrained(model_name)\n",
    "base_model = AutoModelForCausalLM.from_pretrained(\n",
    "  model_name,torch_dtype=\"auto\",#, torch_dtype=torch.float16\n",
    ").to(device)"
   ]
  },
  {
   "cell_type": "code",
   "execution_count": 8,
   "metadata": {},
   "outputs": [
    {
     "name": "stderr",
     "output_type": "stream",
     "text": [
      "Generating: 100%|██████████| 300/300 [06:07<00:00,  1.23s/it]\n",
      "Generating: 100%|██████████| 300/300 [04:00<00:00,  1.25it/s]\n"
     ]
    }
   ],
   "source": [
    "# For  GRPO-trained model:\n",
    "trained_outputs = generate_reformulations(\n",
    "    queries=queries,\n",
    "    model=trained_model,\n",
    "    tokenizer=trained_tokenizer,\n",
    "    device=\"mps\",\n",
    "    make_conversation=make_conversation,\n",
    "    system_prompt=SYSTEM_PROMPT,\n",
    "    offcial_prompt=True\n",
    ")\n",
    "# For  original base model:\n",
    "base_outputs = generate_reformulations(\n",
    "    queries=queries,\n",
    "    model=base_model,\n",
    "    tokenizer=tokenizer,\n",
    "    device=\"mps\",\n",
    "    make_conversation=make_conversation,\n",
    "    system_prompt=SYSTEM_PROMPT,\n",
    "    offcial_prompt=True\n",
    ")\n"
   ]
  },
  {
   "cell_type": "code",
   "execution_count": null,
   "metadata": {},
   "outputs": [],
   "source": [
    "eval_reformulations(trained_outputs, queries_ids,qrels,searcher=searcher)"
   ]
  },
  {
   "cell_type": "code",
   "execution_count": null,
   "metadata": {},
   "outputs": [],
   "source": [
    "eval_reformulations(base_outputs, queries_ids,qrels,searcher=searcher)"
   ]
  },
  {
   "cell_type": "code",
   "execution_count": 16,
   "metadata": {},
   "outputs": [
    {
     "data": {
      "text/plain": [
       "({'NDCG@1': 0.55333, 'NDCG@10': 0.67891, 'NDCG@100': 0.70669},\n",
       " {'Recall@1': 0.53706, 'Recall@10': 0.80383, 'Recall@100': 0.92533},\n",
       " {'P@1': 0.55333, 'P@10': 0.08833, 'P@100': 0.01047})"
      ]
     },
     "execution_count": 16,
     "metadata": {},
     "output_type": "execute_result"
    }
   ],
   "source": [
    "\n",
    "eval_reformulations(queries.values(),queries_ids,qrels,searcher=searcher)"
   ]
  }
 ],
 "metadata": {
  "kernelspec": {
   "display_name": "agents",
   "language": "python",
   "name": "python3"
  },
  "language_info": {
   "codemirror_mode": {
    "name": "ipython",
    "version": 3
   },
   "file_extension": ".py",
   "mimetype": "text/x-python",
   "name": "python",
   "nbconvert_exporter": "python",
   "pygments_lexer": "ipython3",
   "version": "3.12.9"
  }
 },
 "nbformat": 4,
 "nbformat_minor": 2
}
